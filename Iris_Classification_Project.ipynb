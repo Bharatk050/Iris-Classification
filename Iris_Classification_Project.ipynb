{
  "cells": [
    {
      "cell_type": "code",
      "execution_count": 1,
      "metadata": {
        "id": "tXq5GXfrrMip"
      },
      "outputs": [],
      "source": [
        "import numpy as np\n",
        "import pandas as pd\n",
        "import tensorflow as tf\n",
        "from tensorflow.keras import layers\n",
        "from tensorflow import keras\n",
        "import matplotlib.pyplot as plt\n",
        "from sklearn.model_selection import train_test_split\n",
        "from sklearn.preprocessing import LabelEncoder"
      ]
    },
    {
      "cell_type": "code",
      "execution_count": 3,
      "metadata": {
        "id": "mkptQUQsam6K"
      },
      "outputs": [],
      "source": [
        "data = pd.read_csv(\"Data\\\\Iris.csv\")\n",
        "data = data.reindex(np.random.permutation(data.index))\n",
        "le = LabelEncoder()"
      ]
    },
    {
      "cell_type": "code",
      "execution_count": 4,
      "metadata": {
        "id": "eSwMv1ILsSn2"
      },
      "outputs": [],
      "source": [
        "label_name = \"Species\"\n",
        "label = data[label_name] = le.fit_transform(data[label_name])\n",
        "features = {name:np.array(value) for name, value in data.items()}\n",
        "# data"
      ]
    },
    {
      "cell_type": "code",
      "execution_count": 5,
      "metadata": {
        "id": "qciRtzbFrg0J"
      },
      "outputs": [],
      "source": [
        "def output_linear_regression(preprocessed_layer):\n",
        "    output_dense = layers.Dense(units = 1, name= \"output_dense\")(preprocessed_layer)\n",
        "    output = {\n",
        "        \"output_dense\": output_dense\n",
        "    }\n",
        "    return output\n",
        "\n",
        "def build_model(my_learning_rate, input, output):\n",
        "    model = keras.Model(inputs= input, outputs= output)\n",
        "\n",
        "    model.compile(optimizer = keras.optimizers.experimental.RMSprop(learning_rate= my_learning_rate),\n",
        "                 loss = \"mean_absolute_error\",\n",
        "                 metrics = [keras.metrics.RootMeanSquaredError()])\n",
        "    return model\n",
        "\n",
        "def train_model(model, df, label_name, batch_size, epochs):\n",
        "    feature = {name:np.array(value) for name, value in df.items()}\n",
        "    label = np.array(feature.pop(label_name))\n",
        "\n",
        "    history = model.fit(x= feature,y= label, batch_size= batch_size, epochs=epochs)\n",
        "    epochs = history.epoch\n",
        "    hist = pd.DataFrame(history.history)\n",
        "    rmse = hist[\"root_mean_squared_error\"]\n",
        "    return epochs, hist, rmse"
      ]
    },
    {
      "cell_type": "code",
      "execution_count": 6,
      "metadata": {
        "id": "8U5pbrpZr4yB"
      },
      "outputs": [],
      "source": [
        "Input = {\n",
        "    \"SepalLengthCm\": tf.keras.layers.Input(shape= (1,),\n",
        "                                           name= \"SepalLengthCm\",\n",
        "                                           dtype= tf.float32),\n",
        "\n",
        "    \"SepalWidthCm\": tf.keras.layers.Input(shape= (1,),\n",
        "                                          name= \"SepalWidthCm\",\n",
        "                                          dtype= tf.float32),\n",
        "\n",
        "    \"PetalLengthCm\": tf.keras.layers.Input(shape= (1,),\n",
        "                                           name= \"PetalLengthCm\",\n",
        "                                           dtype= tf.float32),\n",
        "\n",
        "    \"PetalWidthCm\": tf.keras.layers.Input(shape= (1,),\n",
        "                                          name= \"PetalWidthCm\",\n",
        "                                          dtype= tf.float32)\n",
        "}"
      ]
    },
    {
      "cell_type": "markdown",
      "metadata": {
        "id": "apuSf-GOp53f"
      },
      "source": [
        "# Crosses\n"
      ]
    },
    {
      "cell_type": "code",
      "execution_count": 7,
      "metadata": {
        "id": "NpBDmIcR7Fng"
      },
      "outputs": [],
      "source": [
        "Resolution_Degree = 1.0\n",
        "\n",
        "SepalLengthCm_Boundaries = list(np.arange(int(min(data[\"SepalLengthCm\"])), int(max(data[\"SepalLengthCm\"])), Resolution_Degree))\n",
        "SepalWidthCm_Boundaries = list(np.arange(int(min(data[\"SepalWidthCm\"])), int(max(data[\"SepalWidthCm\"])), Resolution_Degree))\n",
        "\n",
        "SepalLengthCm = tf.keras.layers.Discretization(\n",
        "    bin_boundaries = SepalLengthCm_Boundaries,\n",
        "    name = \"SepalLengthCm_Binned\"\n",
        ")(Input.get(\"SepalLengthCm\"))\n",
        "\n",
        "SepalWidthCm = tf.keras.layers.Discretization(\n",
        "    bin_boundaries = SepalWidthCm_Boundaries,\n",
        "    name = \"SepalWidthCm_Binned\"\n",
        ")(Input.get(\"SepalWidthCm\"))\n",
        "\n",
        "Sepal = tf.keras.layers.HashedCrossing(\n",
        "    num_bins = len(SepalLengthCm_Boundaries + SepalWidthCm_Boundaries),\n",
        "    name = \"Sepal_Crosses_Layer\",\n",
        "    output_mode = \"one_hot\"\n",
        ")([SepalLengthCm, SepalWidthCm])"
      ]
    },
    {
      "cell_type": "code",
      "execution_count": 8,
      "metadata": {
        "id": "aJy84arZ5Moq"
      },
      "outputs": [],
      "source": [
        "PetalLengthCm_Boundaries = list(np.arange(int(min(data[\"PetalLengthCm\"])), int(max(data[\"PetalLengthCm\"])), Resolution_Degree))\n",
        "PetalWidthCm_Boundaries = list(np.arange(int(min(data[\"PetalWidthCm\"])), int(max(data[\"PetalWidthCm\"])), Resolution_Degree))\n",
        "\n",
        "PetalLengthCm = tf.keras.layers.Discretization(\n",
        "    bin_boundaries = PetalLengthCm_Boundaries,\n",
        "    name = \"PetalLengthCm_Binned\"\n",
        ")(Input.get(\"PetalLengthCm\"))\n",
        "\n",
        "PetalWidthCm = tf.keras.layers.Discretization(\n",
        "    bin_boundaries = PetalWidthCm_Boundaries,\n",
        "    name = \"PetalWidthCm_Binned\"\n",
        ")(Input.get(\"PetalWidthCm\"))\n",
        "\n",
        "Petal = tf.keras.layers.HashedCrossing(\n",
        "    num_bins = len(PetalLengthCm_Boundaries + PetalWidthCm_Boundaries),\n",
        "    name = \"Petal_Crosses_Layer\",\n",
        "    output_mode = \"one_hot\"\n",
        ")([PetalLengthCm, PetalWidthCm])"
      ]
    },
    {
      "cell_type": "markdown",
      "metadata": {
        "id": "oVIEubYShxsn"
      },
      "source": [
        "Concatenation Layer"
      ]
    },
    {
      "cell_type": "code",
      "execution_count": 9,
      "metadata": {
        "id": "ZEqzLdyu5OX-"
      },
      "outputs": [],
      "source": [
        "Concatenate = tf.keras.layers.Concatenate()([Sepal, Petal])\n",
        "Output = output_linear_regression(Concatenate)\n",
        "\n",
        "feature = {name:np.array(value) for name, value in data.items()}\n",
        "label = np.array(feature.pop(label_name))\n",
        "X_train, X_test, y_train, y_test = train_test_split(data, label, test_size = 0.3, random_state=1, shuffle= True)"
      ]
    },
    {
      "cell_type": "code",
      "execution_count": null,
      "metadata": {
        "colab": {
          "base_uri": "https://localhost:8080/"
        },
        "id": "6Fz9mE2lSW1Z",
        "outputId": "8c9fc742-2f3b-4d58-f50b-a84bb0d67c6c"
      },
      "outputs": [],
      "source": [
        "learning_rate = 0.1\n",
        "batch_size = 30\n",
        "epochs = 35\n",
        "label_name = \"Species\"\n",
        "model = build_model(my_learning_rate= learning_rate, input= Input, output=Output)\n",
        "epochs, hist, rmse = train_model(model=model, batch_size= batch_size, epochs=epochs, df= X_train, label_name=label_name)\n"
      ]
    },
    {
      "cell_type": "code",
      "execution_count": 11,
      "metadata": {
        "colab": {
          "base_uri": "https://localhost:8080/",
          "height": 450
        },
        "id": "SCOz0ABg6dgE",
        "outputId": "b023fb8e-69da-4b70-c0bc-b229fd775523"
      },
      "outputs": [
        {
          "data": {
            "text/plain": [
              "[<matplotlib.lines.Line2D at 0x7f6fb532d600>]"
            ]
          },
          "execution_count": 11,
          "metadata": {},
          "output_type": "execute_result"
        },
        {
          "data": {
            "image/png": "[encoded data removed]",
            "text/plain": [
              "<Figure size 640x480 with 1 Axes>"
            ]
          },
          "metadata": {},
          "output_type": "display_data"
        }
      ],
      "source": [
        "plt.plot(epochs, rmse)\n",
        "model.summary()"
      ]
    },
    {
      "cell_type": "code",
      "execution_count": 15,
      "metadata": {
        "colab": {
          "base_uri": "https://localhost:8080/"
        },
        "id": "hBqcL4z0_FrD",
        "outputId": "8833a20b-9a2c-4996-af1b-095b38e37890"
      },
      "outputs": [
        {
          "name": "stderr",
          "output_type": "stream",
          "text": [
            "/usr/local/lib/python3.10/dist-packages/keras/src/engine/functional.py:642: UserWarning: Input dict contained keys ['Id'] which did not match any model input. They will be ignored by the model.\n",
            "  inputs = self._flatten_to_reference_inputs(inputs)\n"
          ]
        },
        {
          "name": "stdout",
          "output_type": "stream",
          "text": [
            "2/2 [==============================] - 1s 12ms/step - loss: 0.1394 - root_mean_squared_error: 0.2366\n"
          ]
        },
        {
          "data": {
            "text/plain": [
              "[0.1394401341676712, 0.23660127818584442]"
            ]
          },
          "execution_count": 15,
          "metadata": {},
          "output_type": "execute_result"
        }
      ],
      "source": [
        "feature_test = {name:np.array(value) for name, value in X_test.items()}\n",
        "label_test = np.array(feature_test.pop(\"Species\"))\n",
        "model.evaluate(x=feature_test, y=label_test, batch_size=batch_size)"
      ]
    },
    {
      "cell_type": "code",
      "execution_count": null,
      "metadata": {
        "id": "3zxDguwiHKNd"
      },
      "outputs": [],
      "source": []
    }
  ],
  "metadata": {
    "colab": {
      "provenance": []
    },
    "kernelspec": {
      "display_name": "Python 3",
      "name": "python3"
    },
    "language_info": {
      "name": "python"
    }
  },
  "nbformat": 4,
  "nbformat_minor": 0
}
