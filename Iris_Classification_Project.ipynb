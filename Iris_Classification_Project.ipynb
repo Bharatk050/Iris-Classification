{
  "cells": [
    {
      "cell_type": "code",
      "execution_count": 3,
      "metadata": {
        "id": "tXq5GXfrrMip"
      },
      "outputs": [],
      "source": [
        "import numpy as np\n",
        "import pandas as pd\n",
        "import tensorflow as tf\n",
        "from tensorflow.keras import layers\n",
        "from tensorflow import keras\n",
        "import matplotlib.pyplot as plt\n",
        "from sklearn.model_selection import train_test_split\n",
        "from sklearn.preprocessing import LabelEncoder"
      ]
    },
    {
      "cell_type": "code",
      "execution_count": 4,
      "metadata": {
        "id": "mkptQUQsam6K"
      },
      "outputs": [],
      "source": [
        "data = pd.read_csv(\"Data\\\\Iris.csv\")\n",
        "data = data.reindex(np.random.permutation(data.index))\n",
        "le = LabelEncoder()"
      ]
    },
    {
      "cell_type": "code",
      "execution_count": 16,
      "metadata": {
        "id": "eSwMv1ILsSn2"
      },
      "outputs": [
        {
          "data": {
            "text/html": [
              "<div>\n",
              "<style scoped>\n",
              "    .dataframe tbody tr th:only-of-type {\n",
              "        vertical-align: middle;\n",
              "    }\n",
              "\n",
              "    .dataframe tbody tr th {\n",
              "        vertical-align: top;\n",
              "    }\n",
              "\n",
              "    .dataframe thead th {\n",
              "        text-align: right;\n",
              "    }\n",
              "</style>\n",
              "<table border=\"1\" class=\"dataframe\">\n",
              "  <thead>\n",
              "    <tr style=\"text-align: right;\">\n",
              "      <th></th>\n",
              "      <th>Id</th>\n",
              "      <th>SepalLengthCm</th>\n",
              "      <th>SepalWidthCm</th>\n",
              "      <th>PetalLengthCm</th>\n",
              "      <th>PetalWidthCm</th>\n",
              "      <th>Species</th>\n",
              "    </tr>\n",
              "  </thead>\n",
              "  <tbody>\n",
              "    <tr>\n",
              "      <th>131</th>\n",
              "      <td>132</td>\n",
              "      <td>7.9</td>\n",
              "      <td>3.8</td>\n",
              "      <td>6.4</td>\n",
              "      <td>2.0</td>\n",
              "      <td>2</td>\n",
              "    </tr>\n",
              "    <tr>\n",
              "      <th>141</th>\n",
              "      <td>142</td>\n",
              "      <td>6.9</td>\n",
              "      <td>3.1</td>\n",
              "      <td>5.1</td>\n",
              "      <td>2.3</td>\n",
              "      <td>2</td>\n",
              "    </tr>\n",
              "    <tr>\n",
              "      <th>29</th>\n",
              "      <td>30</td>\n",
              "      <td>4.7</td>\n",
              "      <td>3.2</td>\n",
              "      <td>1.6</td>\n",
              "      <td>0.2</td>\n",
              "      <td>0</td>\n",
              "    </tr>\n",
              "    <tr>\n",
              "      <th>127</th>\n",
              "      <td>128</td>\n",
              "      <td>6.1</td>\n",
              "      <td>3.0</td>\n",
              "      <td>4.9</td>\n",
              "      <td>1.8</td>\n",
              "      <td>2</td>\n",
              "    </tr>\n",
              "    <tr>\n",
              "      <th>147</th>\n",
              "      <td>148</td>\n",
              "      <td>6.5</td>\n",
              "      <td>3.0</td>\n",
              "      <td>5.2</td>\n",
              "      <td>2.0</td>\n",
              "      <td>2</td>\n",
              "    </tr>\n",
              "    <tr>\n",
              "      <th>139</th>\n",
              "      <td>140</td>\n",
              "      <td>6.9</td>\n",
              "      <td>3.1</td>\n",
              "      <td>5.4</td>\n",
              "      <td>2.1</td>\n",
              "      <td>2</td>\n",
              "    </tr>\n",
              "    <tr>\n",
              "      <th>91</th>\n",
              "      <td>92</td>\n",
              "      <td>6.1</td>\n",
              "      <td>3.0</td>\n",
              "      <td>4.6</td>\n",
              "      <td>1.4</td>\n",
              "      <td>1</td>\n",
              "    </tr>\n",
              "    <tr>\n",
              "      <th>104</th>\n",
              "      <td>105</td>\n",
              "      <td>6.5</td>\n",
              "      <td>3.0</td>\n",
              "      <td>5.8</td>\n",
              "      <td>2.2</td>\n",
              "      <td>2</td>\n",
              "    </tr>\n",
              "    <tr>\n",
              "      <th>3</th>\n",
              "      <td>4</td>\n",
              "      <td>4.6</td>\n",
              "      <td>3.1</td>\n",
              "      <td>1.5</td>\n",
              "      <td>0.2</td>\n",
              "      <td>0</td>\n",
              "    </tr>\n",
              "    <tr>\n",
              "      <th>93</th>\n",
              "      <td>94</td>\n",
              "      <td>5.0</td>\n",
              "      <td>2.3</td>\n",
              "      <td>3.3</td>\n",
              "      <td>1.0</td>\n",
              "      <td>1</td>\n",
              "    </tr>\n",
              "  </tbody>\n",
              "</table>\n",
              "</div>"
            ],
            "text/plain": [
              "      Id  SepalLengthCm  SepalWidthCm  PetalLengthCm  PetalWidthCm  Species\n",
              "131  132            7.9           3.8            6.4           2.0        2\n",
              "141  142            6.9           3.1            5.1           2.3        2\n",
              "29    30            4.7           3.2            1.6           0.2        0\n",
              "127  128            6.1           3.0            4.9           1.8        2\n",
              "147  148            6.5           3.0            5.2           2.0        2\n",
              "139  140            6.9           3.1            5.4           2.1        2\n",
              "91    92            6.1           3.0            4.6           1.4        1\n",
              "104  105            6.5           3.0            5.8           2.2        2\n",
              "3      4            4.6           3.1            1.5           0.2        0\n",
              "93    94            5.0           2.3            3.3           1.0        1"
            ]
          },
          "execution_count": 16,
          "metadata": {},
          "output_type": "execute_result"
        }
      ],
      "source": [
        "label_name = \"Species\"\n",
        "label = data[label_name] = le.fit_transform(data[label_name])\n",
        "features = {name:np.array(value) for name, value in data.items()}\n",
        "data.head(10)"
      ]
    },
    {
      "cell_type": "code",
      "execution_count": 6,
      "metadata": {
        "id": "qciRtzbFrg0J"
      },
      "outputs": [],
      "source": [
        "def output_linear_regression(preprocessed_layer):\n",
        "    output_dense = layers.Dense(units = 1, name= \"output_dense\")(preprocessed_layer)\n",
        "    output = {\n",
        "        \"output_dense\": output_dense\n",
        "    }\n",
        "    return output\n",
        "\n",
        "def build_model(my_learning_rate, input, output):\n",
        "    model = keras.Model(inputs= input, outputs= output)\n",
        "\n",
        "    model.compile(optimizer = keras.optimizers.experimental.RMSprop(learning_rate= my_learning_rate),\n",
        "                 loss = \"mean_absolute_error\",\n",
        "                 metrics = [keras.metrics.RootMeanSquaredError()])\n",
        "    return model\n",
        "\n",
        "def train_model(model, df, label_name, batch_size, epochs):\n",
        "    feature = {name:np.array(value) for name, value in df.items()}\n",
        "    label = np.array(feature.pop(label_name))\n",
        "\n",
        "    history = model.fit(x= feature,y= label, batch_size= batch_size, epochs=epochs)\n",
        "    epochs = history.epoch\n",
        "    hist = pd.DataFrame(history.history)\n",
        "    rmse = hist[\"root_mean_squared_error\"]\n",
        "    return epochs, hist, rmse"
      ]
    },
    {
      "cell_type": "code",
      "execution_count": 7,
      "metadata": {
        "id": "8U5pbrpZr4yB"
      },
      "outputs": [
        {
          "name": "stdout",
          "output_type": "stream",
          "text": [
            "WARNING:tensorflow:From d:\\Python\\Lib\\site-packages\\keras\\src\\backend.py:1398: The name tf.executing_eagerly_outside_functions is deprecated. Please use tf.compat.v1.executing_eagerly_outside_functions instead.\n",
            "\n"
          ]
        }
      ],
      "source": [
        "Input = {\n",
        "    \"SepalLengthCm\": tf.keras.layers.Input(shape= (1,),\n",
        "                                           name= \"SepalLengthCm\",\n",
        "                                           dtype= tf.float32),\n",
        "\n",
        "    \"SepalWidthCm\": tf.keras.layers.Input(shape= (1,),\n",
        "                                          name= \"SepalWidthCm\",\n",
        "                                          dtype= tf.float32),\n",
        "\n",
        "    \"PetalLengthCm\": tf.keras.layers.Input(shape= (1,),\n",
        "                                           name= \"PetalLengthCm\",\n",
        "                                           dtype= tf.float32),\n",
        "\n",
        "    \"PetalWidthCm\": tf.keras.layers.Input(shape= (1,),\n",
        "                                          name= \"PetalWidthCm\",\n",
        "                                          dtype= tf.float32)\n",
        "}"
      ]
    },
    {
      "cell_type": "markdown",
      "metadata": {
        "id": "apuSf-GOp53f"
      },
      "source": [
        "# Crosses\n"
      ]
    },
    {
      "cell_type": "code",
      "execution_count": 8,
      "metadata": {
        "id": "NpBDmIcR7Fng"
      },
      "outputs": [
        {
          "name": "stdout",
          "output_type": "stream",
          "text": [
            "WARNING:tensorflow:From d:\\Python\\Lib\\site-packages\\keras\\src\\utils\\tf_utils.py:492: The name tf.ragged.RaggedTensorValue is deprecated. Please use tf.compat.v1.ragged.RaggedTensorValue instead.\n",
            "\n"
          ]
        }
      ],
      "source": [
        "Resolution_Degree = 1.0\n",
        "\n",
        "SepalLengthCm_Boundaries = list(np.arange(int(min(data[\"SepalLengthCm\"])), int(max(data[\"SepalLengthCm\"])), Resolution_Degree))\n",
        "SepalWidthCm_Boundaries = list(np.arange(int(min(data[\"SepalWidthCm\"])), int(max(data[\"SepalWidthCm\"])), Resolution_Degree))\n",
        "\n",
        "SepalLengthCm = tf.keras.layers.Discretization(\n",
        "    bin_boundaries = SepalLengthCm_Boundaries,\n",
        "    name = \"SepalLengthCm_Binned\"\n",
        ")(Input.get(\"SepalLengthCm\"))\n",
        "\n",
        "SepalWidthCm = tf.keras.layers.Discretization(\n",
        "    bin_boundaries = SepalWidthCm_Boundaries,\n",
        "    name = \"SepalWidthCm_Binned\"\n",
        ")(Input.get(\"SepalWidthCm\"))\n",
        "\n",
        "Sepal = tf.keras.layers.HashedCrossing(\n",
        "    num_bins = len(SepalLengthCm_Boundaries + SepalWidthCm_Boundaries),\n",
        "    name = \"Sepal_Crosses_Layer\",\n",
        "    output_mode = \"one_hot\"\n",
        ")([SepalLengthCm, SepalWidthCm])"
      ]
    },
    {
      "cell_type": "code",
      "execution_count": 9,
      "metadata": {
        "id": "aJy84arZ5Moq"
      },
      "outputs": [],
      "source": [
        "PetalLengthCm_Boundaries = list(np.arange(int(min(data[\"PetalLengthCm\"])), int(max(data[\"PetalLengthCm\"])), Resolution_Degree))\n",
        "PetalWidthCm_Boundaries = list(np.arange(int(min(data[\"PetalWidthCm\"])), int(max(data[\"PetalWidthCm\"])), Resolution_Degree))\n",
        "\n",
        "PetalLengthCm = tf.keras.layers.Discretization(\n",
        "    bin_boundaries = PetalLengthCm_Boundaries,\n",
        "    name = \"PetalLengthCm_Binned\"\n",
        ")(Input.get(\"PetalLengthCm\"))\n",
        "\n",
        "PetalWidthCm = tf.keras.layers.Discretization(\n",
        "    bin_boundaries = PetalWidthCm_Boundaries,\n",
        "    name = \"PetalWidthCm_Binned\"\n",
        ")(Input.get(\"PetalWidthCm\"))\n",
        "\n",
        "Petal = tf.keras.layers.HashedCrossing(\n",
        "    num_bins = len(PetalLengthCm_Boundaries + PetalWidthCm_Boundaries),\n",
        "    name = \"Petal_Crosses_Layer\",\n",
        "    output_mode = \"one_hot\"\n",
        ")([PetalLengthCm, PetalWidthCm])"
      ]
    },
    {
      "cell_type": "markdown",
      "metadata": {
        "id": "oVIEubYShxsn"
      },
      "source": [
        "Concatenation Layer"
      ]
    },
    {
      "cell_type": "code",
      "execution_count": 10,
      "metadata": {
        "id": "ZEqzLdyu5OX-"
      },
      "outputs": [],
      "source": [
        "Concatenate = tf.keras.layers.Concatenate()([Sepal, Petal])\n",
        "Output = output_linear_regression(Concatenate)\n",
        "\n",
        "feature = {name:np.array(value) for name, value in data.items()}\n",
        "label = np.array(feature.pop(label_name))\n",
        "X_train, X_test, y_train, y_test = train_test_split(data, label, test_size = 0.3, random_state=1, shuffle= True)"
      ]
    },
    {
      "cell_type": "code",
      "execution_count": 11,
      "metadata": {
        "colab": {
          "base_uri": "https://localhost:8080/"
        },
        "id": "6Fz9mE2lSW1Z",
        "outputId": "8c9fc742-2f3b-4d58-f50b-a84bb0d67c6c"
      },
      "outputs": [
        {
          "name": "stdout",
          "output_type": "stream",
          "text": [
            "Epoch 1/35\n"
          ]
        },
        {
          "name": "stderr",
          "output_type": "stream",
          "text": [
            "d:\\Python\\Lib\\site-packages\\keras\\src\\engine\\functional.py:642: UserWarning: Input dict contained keys ['Id'] which did not match any model input. They will be ignored by the model.\n",
            "  inputs = self._flatten_to_reference_inputs(inputs)\n"
          ]
        },
        {
          "name": "stdout",
          "output_type": "stream",
          "text": [
            "4/4 [==============================] - 1s 10ms/step - loss: 0.5358 - root_mean_squared_error: 0.7095\n",
            "Epoch 2/35\n",
            "4/4 [==============================] - 0s 7ms/step - loss: 0.3480 - root_mean_squared_error: 0.4451\n",
            "Epoch 3/35\n",
            "4/4 [==============================] - 0s 6ms/step - loss: 0.2967 - root_mean_squared_error: 0.3859\n",
            "Epoch 4/35\n",
            "4/4 [==============================] - 0s 6ms/step - loss: 0.2820 - root_mean_squared_error: 0.4263\n",
            "Epoch 5/35\n",
            "4/4 [==============================] - 0s 5ms/step - loss: 0.2766 - root_mean_squared_error: 0.3892\n",
            "Epoch 6/35\n",
            "4/4 [==============================] - 0s 1ms/step - loss: 0.2346 - root_mean_squared_error: 0.3643\n",
            "Epoch 7/35\n",
            "4/4 [==============================] - 0s 5ms/step - loss: 0.3142 - root_mean_squared_error: 0.4509\n",
            "Epoch 8/35\n",
            "4/4 [==============================] - 0s 5ms/step - loss: 0.2564 - root_mean_squared_error: 0.3790\n",
            "Epoch 9/35\n",
            "4/4 [==============================] - 0s 3ms/step - loss: 0.2097 - root_mean_squared_error: 0.3756\n",
            "Epoch 10/35\n",
            "4/4 [==============================] - 0s 4ms/step - loss: 0.2490 - root_mean_squared_error: 0.3873\n",
            "Epoch 11/35\n",
            "4/4 [==============================] - 0s 2ms/step - loss: 0.2026 - root_mean_squared_error: 0.3479\n",
            "Epoch 12/35\n",
            "4/4 [==============================] - 0s 7ms/step - loss: 0.2512 - root_mean_squared_error: 0.3576\n",
            "Epoch 13/35\n",
            "4/4 [==============================] - 0s 3ms/step - loss: 0.2713 - root_mean_squared_error: 0.3893\n",
            "Epoch 14/35\n",
            "4/4 [==============================] - 0s 5ms/step - loss: 0.2108 - root_mean_squared_error: 0.3559\n",
            "Epoch 15/35\n",
            "4/4 [==============================] - 0s 7ms/step - loss: 0.2176 - root_mean_squared_error: 0.3546\n",
            "Epoch 16/35\n",
            "4/4 [==============================] - 0s 5ms/step - loss: 0.2647 - root_mean_squared_error: 0.3801\n",
            "Epoch 17/35\n",
            "4/4 [==============================] - 0s 4ms/step - loss: 0.2211 - root_mean_squared_error: 0.3775\n",
            "Epoch 18/35\n",
            "4/4 [==============================] - 0s 4ms/step - loss: 0.2408 - root_mean_squared_error: 0.3705\n",
            "Epoch 19/35\n",
            "4/4 [==============================] - 0s 4ms/step - loss: 0.1955 - root_mean_squared_error: 0.3531\n",
            "Epoch 20/35\n",
            "4/4 [==============================] - 0s 1ms/step - loss: 0.2706 - root_mean_squared_error: 0.3947\n",
            "Epoch 21/35\n",
            "4/4 [==============================] - 0s 6ms/step - loss: 0.2443 - root_mean_squared_error: 0.3866\n",
            "Epoch 22/35\n",
            "4/4 [==============================] - 0s 6ms/step - loss: 0.2703 - root_mean_squared_error: 0.4006\n",
            "Epoch 23/35\n",
            "4/4 [==============================] - 0s 8ms/step - loss: 0.1903 - root_mean_squared_error: 0.3683\n",
            "Epoch 24/35\n",
            "4/4 [==============================] - 0s 6ms/step - loss: 0.2423 - root_mean_squared_error: 0.3796\n",
            "Epoch 25/35\n",
            "4/4 [==============================] - 0s 6ms/step - loss: 0.2364 - root_mean_squared_error: 0.3804\n",
            "Epoch 26/35\n",
            "4/4 [==============================] - 0s 4ms/step - loss: 0.1953 - root_mean_squared_error: 0.3458\n",
            "Epoch 27/35\n",
            "4/4 [==============================] - 0s 4ms/step - loss: 0.2560 - root_mean_squared_error: 0.3642\n",
            "Epoch 28/35\n",
            "4/4 [==============================] - 0s 4ms/step - loss: 0.2271 - root_mean_squared_error: 0.3705\n",
            "Epoch 29/35\n",
            "4/4 [==============================] - 0s 5ms/step - loss: 0.2545 - root_mean_squared_error: 0.3746\n",
            "Epoch 30/35\n",
            "4/4 [==============================] - 0s 5ms/step - loss: 0.2303 - root_mean_squared_error: 0.3800\n",
            "Epoch 31/35\n",
            "4/4 [==============================] - 0s 6ms/step - loss: 0.2357 - root_mean_squared_error: 0.3614\n",
            "Epoch 32/35\n",
            "4/4 [==============================] - 0s 5ms/step - loss: 0.2848 - root_mean_squared_error: 0.4194\n",
            "Epoch 33/35\n",
            "4/4 [==============================] - 0s 7ms/step - loss: 0.2224 - root_mean_squared_error: 0.3721\n",
            "Epoch 34/35\n",
            "4/4 [==============================] - 0s 4ms/step - loss: 0.2646 - root_mean_squared_error: 0.3952\n",
            "Epoch 35/35\n",
            "4/4 [==============================] - 0s 3ms/step - loss: 0.2616 - root_mean_squared_error: 0.3739\n"
          ]
        }
      ],
      "source": [
        "learning_rate = 0.1\n",
        "batch_size = 30\n",
        "epochs = 35\n",
        "label_name = \"Species\"\n",
        "model = build_model(my_learning_rate= learning_rate, input= Input, output=Output)\n",
        "epochs, hist, rmse = train_model(model=model, batch_size= batch_size, epochs=epochs, df= X_train, label_name=label_name)\n"
      ]
    },
    {
      "cell_type": "code",
      "execution_count": 14,
      "metadata": {
        "colab": {
          "base_uri": "https://localhost:8080/",
          "height": 450
        },
        "id": "SCOz0ABg6dgE",
        "outputId": "b023fb8e-69da-4b70-c0bc-b229fd775523"
      },
      "outputs": [
        {
          "name": "stdout",
          "output_type": "stream",
          "text": [
            "Model: \"model\"\n",
            "__________________________________________________________________________________________________\n",
            " Layer (type)                Output Shape                 Param #   Connected to                  \n",
            "==================================================================================================\n",
            " SepalLengthCm (InputLayer)  [(None, 1)]                  0         []                            \n",
            "                                                                                                  \n",
            " SepalWidthCm (InputLayer)   [(None, 1)]                  0         []                            \n",
            "                                                                                                  \n",
            " PetalLengthCm (InputLayer)  [(None, 1)]                  0         []                            \n",
            "                                                                                                  \n",
            " PetalWidthCm (InputLayer)   [(None, 1)]                  0         []                            \n",
            "                                                                                                  \n",
            " SepalLengthCm_Binned (Disc  (None, 1)                    0         ['SepalLengthCm[0][0]']       \n",
            " retization)                                                                                      \n"
          ]
        },
        {
          "name": "stdout",
          "output_type": "stream",
          "text": [
            "                                                                                                  \n",
            " SepalWidthCm_Binned (Discr  (None, 1)                    0         ['SepalWidthCm[0][0]']        \n",
            " etization)                                                                                       \n",
            "                                                                                                  \n",
            " PetalLengthCm_Binned (Disc  (None, 1)                    0         ['PetalLengthCm[0][0]']       \n",
            " retization)                                                                                      \n",
            "                                                                                                  \n",
            " PetalWidthCm_Binned (Discr  (None, 1)                    0         ['PetalWidthCm[0][0]']        \n",
            " etization)                                                                                       \n",
            "                                                                                                  \n",
            " Sepal_Crosses_Layer (Hashe  (None, 5)                    0         ['SepalLengthCm_Binned[0][0]',\n",
            " dCrossing)                                                          'SepalWidthCm_Binned[0][0]'] \n",
            "                                                                                                  \n",
            " Petal_Crosses_Layer (Hashe  (None, 7)                    0         ['PetalLengthCm_Binned[0][0]',\n",
            " dCrossing)                                                          'PetalWidthCm_Binned[0][0]'] \n",
            "                                                                                                  \n",
            " concatenate (Concatenate)   (None, 12)                   0         ['Sepal_Crosses_Layer[0][0]', \n",
            "                                                                     'Petal_Crosses_Layer[0][0]'] \n",
            "                                                                                                  \n",
            " output_dense (Dense)        (None, 1)                    13        ['concatenate[0][0]']         \n",
            "                                                                                                  \n",
            "==================================================================================================\n",
            "Total params: 13 (52.00 Byte)\n",
            "Trainable params: 13 (52.00 Byte)\n",
            "Non-trainable params: 0 (0.00 Byte)\n",
            "__________________________________________________________________________________________________\n"
          ]
        },
        {
          "data": {
            "image/png": "[encoded data removed]",
            "text/plain": [
              "<Figure size 640x480 with 1 Axes>"
            ]
          },
          "metadata": {},
          "output_type": "display_data"
        }
      ],
      "source": [
        "plt.plot(epochs, rmse)\n",
        "model.summary()"
      ]
    },
    {
      "cell_type": "code",
      "execution_count": 13,
      "metadata": {
        "colab": {
          "base_uri": "https://localhost:8080/"
        },
        "id": "hBqcL4z0_FrD",
        "outputId": "8833a20b-9a2c-4996-af1b-095b38e37890"
      },
      "outputs": [
        {
          "name": "stdout",
          "output_type": "stream",
          "text": [
            "2/2 [==============================] - 0s 1ms/step - loss: 0.2147 - root_mean_squared_error: 0.3846\n"
          ]
        },
        {
          "data": {
            "text/plain": [
              "[0.2147035449743271, 0.3846331834793091]"
            ]
          },
          "execution_count": 13,
          "metadata": {},
          "output_type": "execute_result"
        }
      ],
      "source": [
        "feature_test = {name:np.array(value) for name, value in X_test.items()}\n",
        "label_test = np.array(feature_test.pop(\"Species\"))\n",
        "model.evaluate(x=feature_test, y=label_test, batch_size=batch_size)"
      ]
    },
    {
      "cell_type": "code",
      "execution_count": null,
      "metadata": {
        "id": "3zxDguwiHKNd"
      },
      "outputs": [],
      "source": []
    }
  ],
  "metadata": {
    "colab": {
      "provenance": []
    },
    "kernelspec": {
      "display_name": "Python 3",
      "name": "python3"
    },
    "language_info": {
      "codemirror_mode": {
        "name": "ipython",
        "version": 3
      },
      "file_extension": ".py",
      "mimetype": "text/x-python",
      "name": "python",
      "nbconvert_exporter": "python",
      "pygments_lexer": "ipython3",
      "version": "3.11.7"
    }
  },
  "nbformat": 4,
  "nbformat_minor": 0
}
